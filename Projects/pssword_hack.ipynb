{
 "cells": [
  {
   "cell_type": "code",
   "execution_count": 10,
   "id": "c26eb8c9",
   "metadata": {},
   "outputs": [],
   "source": [
    "import hashlib\n",
    "import csv"
   ]
  },
  {
   "cell_type": "code",
   "execution_count": 15,
   "id": "2a6721f8",
   "metadata": {},
   "outputs": [],
   "source": [
    "def hash_password_hack(input_file_name, output_file_name):\n",
    "    my_input = str(input_file_name)\n",
    "    my_output = str(output_file_name)\n",
    "    outputs =''\n",
    "    with open(my_input) as h:\n",
    "        reader = csv.reader(h)\n",
    "        hash_database = dict()\n",
    "        for number in range(1000, 10000):\n",
    "            hash_database[number] = hashlib.sha256(b'%i' %number).hexdigest()\n",
    "            reverse_hash_database = {v : k for k, v in hash_database.items()}\n",
    "        for row in reader:\n",
    "            name = row[0]\n",
    "            hashed_password = row[1]\n",
    "            password = reverse_hash_database[hashed_password]\n",
    "            output = '%s,%i\\n' %(name, password)\n",
    "            outputs += output\n",
    "\n",
    "    w = open(my_output, 'w')\n",
    "    w.write(outputs)\n",
    "    w.close()\n",
    "\n",
    "hash_password_hack('/Users/lenovo/Desktop/CSV files/passwords.csv', '/Users/lenovo/Desktop/CSV files/results.csv')"
   ]
  },
  {
   "cell_type": "code",
   "execution_count": null,
   "id": "f8142123",
   "metadata": {},
   "outputs": [],
   "source": []
  }
 ],
 "metadata": {
  "kernelspec": {
   "display_name": "Python 3 (ipykernel)",
   "language": "python",
   "name": "python3"
  },
  "language_info": {
   "codemirror_mode": {
    "name": "ipython",
    "version": 3
   },
   "file_extension": ".py",
   "mimetype": "text/x-python",
   "name": "python",
   "nbconvert_exporter": "python",
   "pygments_lexer": "ipython3",
   "version": "3.9.13"
  }
 },
 "nbformat": 4,
 "nbformat_minor": 5
}
